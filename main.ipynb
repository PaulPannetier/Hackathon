{
 "cells": [
  {
   "cell_type": "code",
   "execution_count": 1,
   "metadata": {},
   "outputs": [
    {
     "name": "stdout",
     "output_type": "stream",
     "text": [
      "loading Roboflow workspace...\n",
      "loading Roboflow project...\n"
     ]
    },
    {
     "name": "stderr",
     "output_type": "stream",
     "text": [
      "Downloading Dataset Version Zip in floating-waste-dataset-grayscale_images-1 to yolov4pytorch:: 100%|██████████| 291616/291616 [02:43<00:00, 1786.82it/s]"
     ]
    },
    {
     "name": "stdout",
     "output_type": "stream",
     "text": [
      "\n"
     ]
    },
    {
     "name": "stderr",
     "output_type": "stream",
     "text": [
      "\n",
      "Extracting Dataset Version Zip to floating-waste-dataset-grayscale_images-1 in yolov4pytorch:: 100%|██████████| 7862/7862 [00:03<00:00, 2016.14it/s]\n"
     ]
    }
   ],
   "source": [
    "#pip install roboflow\n",
    "\n",
    "from roboflow import Roboflow\n",
    "\n",
    "\n",
    "rf = Roboflow(api_key=\"uMUVjvL3wu5Jz1Y3sq4J\")\n",
    "project = rf.workspace(\"bannari-mman-institute-of-technology\").project(\"floating-waste-dataset-grayscale_images\")\n",
    "version = project.version(1)\n",
    "dataset = version.download(\"yolov4pytorch\")"
   ]
  },
  {
   "cell_type": "code",
   "execution_count": null,
   "metadata": {},
   "outputs": [],
   "source": []
  }
 ],
 "metadata": {
  "kernelspec": {
   "display_name": "Python 3",
   "language": "python",
   "name": "python3"
  },
  "language_info": {
   "codemirror_mode": {
    "name": "ipython",
    "version": 3
   },
   "file_extension": ".py",
   "mimetype": "text/x-python",
   "name": "python",
   "nbconvert_exporter": "python",
   "pygments_lexer": "ipython3",
   "version": "3.11.9"
  }
 },
 "nbformat": 4,
 "nbformat_minor": 2
}
