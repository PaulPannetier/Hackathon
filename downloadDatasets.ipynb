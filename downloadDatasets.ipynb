{
 "cells": [
  {
   "cell_type": "code",
   "execution_count": 1,
   "metadata": {},
   "outputs": [
    {
     "name": "stdout",
     "output_type": "stream",
     "text": [
      "loading Roboflow workspace...\n",
      "loading Roboflow project...\n"
     ]
    },
    {
     "name": "stderr",
     "output_type": "stream",
     "text": [
      "Downloading Dataset Version Zip in floating-waste-dataset-grayscale_images-1 to yolov4pytorch:: 100%|██████████| 291616/291616 [02:43<00:00, 1786.82it/s]"
     ]
    },
    {
     "name": "stdout",
     "output_type": "stream",
     "text": [
      "\n"
     ]
    },
    {
     "name": "stderr",
     "output_type": "stream",
     "text": [
      "\n",
      "Extracting Dataset Version Zip to floating-waste-dataset-grayscale_images-1 in yolov4pytorch:: 100%|██████████| 7862/7862 [00:03<00:00, 2016.14it/s]\n"
     ]
    }
   ],
   "source": [
    "#pip install roboflow\n",
    "\n",
    "from roboflow import Roboflow\n",
    "\n",
    "\n",
    "rf = Roboflow(api_key=\"uMUVjvL3wu5Jz1Y3sq4J\")\n",
    "project = rf.workspace(\"bannari-mman-institute-of-technology\").project(\"floating-waste-dataset-grayscale_images\")\n",
    "version = project.version(1)\n",
    "dataset = version.download(\"yolov4pytorch\")"
   ]
  },
  {
   "cell_type": "code",
   "execution_count": 6,
   "metadata": {},
   "outputs": [
    {
     "ename": "NameError",
     "evalue": "name 'your_image' is not defined",
     "output_type": "error",
     "traceback": [
      "\u001b[1;31m---------------------------------------------------------------------------\u001b[0m",
      "\u001b[1;31mNameError\u001b[0m                                 Traceback (most recent call last)",
      "Cell \u001b[1;32mIn[6], line 8\u001b[0m\n\u001b[0;32m      1\u001b[0m \u001b[38;5;28;01mfrom\u001b[39;00m \u001b[38;5;21;01minference_sdk\u001b[39;00m \u001b[38;5;28;01mimport\u001b[39;00m InferenceHTTPClient\n\u001b[0;32m      3\u001b[0m CLIENT \u001b[38;5;241m=\u001b[39m InferenceHTTPClient(\n\u001b[0;32m      4\u001b[0m     api_url\u001b[38;5;241m=\u001b[39m\u001b[38;5;124m\"\u001b[39m\u001b[38;5;124mhttps://detect.roboflow.com\u001b[39m\u001b[38;5;124m\"\u001b[39m,\n\u001b[0;32m      5\u001b[0m     api_key\u001b[38;5;241m=\u001b[39m\u001b[38;5;124m\"\u001b[39m\u001b[38;5;124muMUVjvL3wu5Jz1Y3sq4J\u001b[39m\u001b[38;5;124m\"\u001b[39m\n\u001b[0;32m      6\u001b[0m )\n\u001b[1;32m----> 8\u001b[0m result \u001b[38;5;241m=\u001b[39m CLIENT\u001b[38;5;241m.\u001b[39minfer(\u001b[43myour_image\u001b[49m\u001b[38;5;241m.\u001b[39mjpg, model_id\u001b[38;5;241m=\u001b[39m\u001b[38;5;124m\"\u001b[39m\u001b[38;5;124mauto-floating-garbage-collector/1\u001b[39m\u001b[38;5;124m\"\u001b[39m)\n",
      "\u001b[1;31mNameError\u001b[0m: name 'your_image' is not defined"
     ]
    }
   ],
   "source": [
    "from inference_sdk import InferenceHTTPClient\n",
    "\n",
    "CLIENT = InferenceHTTPClient(\n",
    "    api_url=\"https://detect.roboflow.com\",\n",
    "    api_key=\"uMUVjvL3wu5Jz1Y3sq4J\"\n",
    ")\n",
    "\n",
    "result = CLIENT.infer(your_image.jpg, model_id=\"auto-floating-garbage-collector/1\")"
   ]
  },
  {
   "cell_type": "code",
   "execution_count": 7,
   "metadata": {},
   "outputs": [
    {
     "name": "stdout",
     "output_type": "stream",
     "text": [
      "loading Roboflow workspace...\n",
      "loading Roboflow project...\n"
     ]
    },
    {
     "name": "stderr",
     "output_type": "stream",
     "text": [
      "Downloading Dataset Version Zip in Auto-floating-garbage-collector-1 to yolov4pytorch:: 100%|██████████| 653932/653932 [00:49<00:00, 13123.10it/s]"
     ]
    },
    {
     "name": "stdout",
     "output_type": "stream",
     "text": [
      "\n"
     ]
    },
    {
     "name": "stderr",
     "output_type": "stream",
     "text": [
      "\n",
      "Extracting Dataset Version Zip to Auto-floating-garbage-collector-1 in yolov4pytorch:: 100%|██████████| 13461/13461 [00:07<00:00, 1826.01it/s]\n"
     ]
    }
   ],
   "source": [
    "from roboflow import Roboflow\n",
    "rf = Roboflow(api_key=\"uMUVjvL3wu5Jz1Y3sq4J\")\n",
    "project = rf.workspace(\"class-ujqr2\").project(\"auto-floating-garbage-collector\")\n",
    "version = project.version(1)\n",
    "dataset = version.download(\"yolov4pytorch\")\n"
   ]
  },
  {
   "cell_type": "code",
   "execution_count": 1,
   "metadata": {},
   "outputs": [
    {
     "name": "stdout",
     "output_type": "stream",
     "text": [
      "loading Roboflow workspace...\n",
      "loading Roboflow project...\n"
     ]
    }
   ],
   "source": [
    "from roboflow import Roboflow\n",
    "rf = Roboflow(api_key=\"uMUVjvL3wu5Jz1Y3sq4J\")\n",
    "project = rf.workspace(\"main-project-89zdq\").project(\"bottle-detection-in-water\")\n",
    "version = project.version(2)\n",
    "dataset = version.download(\"yolov4pytorch\")"
   ]
  }
 ],
 "metadata": {
  "kernelspec": {
   "display_name": "Python 3",
   "language": "python",
   "name": "python3"
  },
  "language_info": {
   "codemirror_mode": {
    "name": "ipython",
    "version": 3
   },
   "file_extension": ".py",
   "mimetype": "text/x-python",
   "name": "python",
   "nbconvert_exporter": "python",
   "pygments_lexer": "ipython3",
   "version": "3.11.9"
  }
 },
 "nbformat": 4,
 "nbformat_minor": 2
}
