{
 "cells": [
  {
   "cell_type": "code",
   "execution_count": 7,
   "metadata": {},
   "outputs": [
    {
     "name": "stdout",
     "output_type": "stream",
     "text": [
      "loading Roboflow workspace...\n",
      "loading Roboflow project...\n"
     ]
    },
    {
     "name": "stderr",
     "output_type": "stream",
     "text": [
      "Downloading Dataset Version Zip in Auto-floating-garbage-collector-1 to yolov4pytorch:: 100%|██████████| 653932/653932 [00:49<00:00, 13123.10it/s]"
     ]
    },
    {
     "name": "stdout",
     "output_type": "stream",
     "text": [
      "\n"
     ]
    },
    {
     "name": "stderr",
     "output_type": "stream",
     "text": [
      "\n",
      "Extracting Dataset Version Zip to Auto-floating-garbage-collector-1 in yolov4pytorch:: 100%|██████████| 13461/13461 [00:07<00:00, 1826.01it/s]\n"
     ]
    }
   ],
   "source": [
    "from roboflow import Roboflow\n",
    "rf = Roboflow(api_key=\"uMUVjvL3wu5Jz1Y3sq4J\")\n",
    "project = rf.workspace(\"class-ujqr2\").project(\"auto-floating-garbage-collector\")\n",
    "version = project.version(1)\n",
    "dataset = version.download(\"yolov4pytorch\")\n"
   ]
  },
  {
   "cell_type": "code",
   "execution_count": 5,
   "metadata": {},
   "outputs": [
    {
     "name": "stdout",
     "output_type": "stream",
     "text": [
      "loading Roboflow workspace...\n",
      "loading Roboflow project...\n"
     ]
    },
    {
     "name": "stderr",
     "output_type": "stream",
     "text": [
      "Downloading Dataset Version Zip in Autonomous-Garbage-Collector-Boat-1 to yolov4pytorch:: 100%|██████████| 121635/121635 [00:08<00:00, 14437.79it/s]"
     ]
    },
    {
     "name": "stdout",
     "output_type": "stream",
     "text": [
      "\n"
     ]
    },
    {
     "name": "stderr",
     "output_type": "stream",
     "text": [
      "\n",
      "Extracting Dataset Version Zip to Autonomous-Garbage-Collector-Boat-1 in yolov4pytorch:: 100%|██████████| 3218/3218 [00:01<00:00, 2267.86it/s]\n"
     ]
    }
   ],
   "source": [
    "rf = Roboflow(api_key=\"uMUVjvL3wu5Jz1Y3sq4J\")\n",
    "project = rf.workspace(\"thesis-oebh2\").project(\"autonomous-garbage-collector-boat-lfotv\")\n",
    "version = project.version(1)\n",
    "dataset = version.download(\"yolov4pytorch\")\n"
   ]
  },
  {
   "cell_type": "code",
   "execution_count": 6,
   "metadata": {},
   "outputs": [
    {
     "name": "stdout",
     "output_type": "stream",
     "text": [
      "loading Roboflow workspace...\n",
      "loading Roboflow project...\n"
     ]
    },
    {
     "name": "stderr",
     "output_type": "stream",
     "text": [
      "Downloading Dataset Version Zip in VOCImgs-5 to yolov4pytorch:: 100%|██████████| 117083/117083 [00:07<00:00, 14766.52it/s]"
     ]
    },
    {
     "name": "stdout",
     "output_type": "stream",
     "text": [
      "\n"
     ]
    },
    {
     "name": "stderr",
     "output_type": "stream",
     "text": [
      "\n",
      "Extracting Dataset Version Zip to VOCImgs-5 in yolov4pytorch:: 100%|██████████| 2284/2284 [00:01<00:00, 1958.04it/s]\n"
     ]
    }
   ],
   "source": [
    "rf = Roboflow(api_key=\"uMUVjvL3wu5Jz1Y3sq4J\")\n",
    "project = rf.workspace(\"bao-bao-3gkoq\").project(\"vocimgs\")\n",
    "version = project.version(5)\n",
    "dataset = version.download(\"yolov4pytorch\")"
   ]
  }
 ],
 "metadata": {
  "kernelspec": {
   "display_name": "Python 3",
   "language": "python",
   "name": "python3"
  },
  "language_info": {
   "codemirror_mode": {
    "name": "ipython",
    "version": 3
   },
   "file_extension": ".py",
   "mimetype": "text/x-python",
   "name": "python",
   "nbconvert_exporter": "python",
   "pygments_lexer": "ipython3",
   "version": "3.11.9"
  }
 },
 "nbformat": 4,
 "nbformat_minor": 2
}
